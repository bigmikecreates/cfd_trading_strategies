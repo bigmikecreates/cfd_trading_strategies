{
 "cells": [
  {
   "cell_type": "markdown",
   "metadata": {},
   "source": [
    "<h1 style='text-align:center'><u><strong>SIMPLE MOVING AVERAGES (SMA) CROSSOVER</strong></u>:</h1>"
   ]
  },
  {
   "cell_type": "markdown",
   "metadata": {},
   "source": [
    "<p>This notebook implements the <strong>Simple Moving Averages (S.M.A.) Crossover </strong> algorithm, defined as the following function:</p>\n",
    "<br>\n",
    "\n",
    "$$\n",
    "SMA_t = \\frac{1}{N} \\sum_{i=t-N+1}^{t} x_i\n",
    "$$\n",
    "\n",
    "<h5><u>Where</u>:</h5>\n",
    "\n",
    "- $SMA_t$ = Simple moving average at time $t$\n",
    "- $x_i$ = The value at time $i$ (for example, stock price at time $i$)\n",
    "- $N$ = The number of periods (e.g., 50-day SM, 200-day SMA)\n",
    "- $t$ = Current time or data point\n",
    "\n",
    "<h5><u>Example</u>:</h5>\n",
    "Using the closing prices of an asset for the past 5 days,\n",
    "\n",
    "$$\\frac{100 + 90 + 110 + 120 + 105}{5} = \\frac{525}{5} = 20$$"
   ]
  },
  {
   "cell_type": "markdown",
   "metadata": {},
   "source": [
    "---"
   ]
  },
  {
   "cell_type": "markdown",
   "metadata": {},
   "source": [
    "<br>\n",
    "<br>\n",
    "<h2 style='text-align:center'><u><strong>DATA PRE-PROCESSING/PROCESSING</strong></u>:</h2>"
   ]
  },
  {
   "cell_type": "code",
   "execution_count": 21,
   "metadata": {},
   "outputs": [
    {
     "name": "stdout",
     "output_type": "stream",
     "text": [
      "Everything works!\n"
     ]
    }
   ],
   "source": [
    "# Modules\n",
    "\n",
    "import matplotlib.pyplot as plt\n",
    "import yfinance as yf\n",
    "import statsmodels as sm\n",
    "import seaborn as sns\n",
    "import pandas as pd\n",
    "import numpy as np\n",
    "import re\n",
    "import os\n",
    "import backtrader as bt\n",
    "import yahoo_fin as yhfin\n",
    "print('Everything works!')"
   ]
  },
  {
   "cell_type": "code",
   "execution_count": 23,
   "metadata": {},
   "outputs": [
    {
     "name": "stdout",
     "output_type": "stream",
     "text": [
      "Warning - Certain functionality \n",
      "             requires requests_html, which is not installed.\n",
      "             \n",
      "             Install using: \n",
      "             pip install requests_html\n",
      "             \n",
      "             After installation, you may have to restart your Python session.\n"
     ]
    },
    {
     "data": {
      "text/html": [
       "<div>\n",
       "<style scoped>\n",
       "    .dataframe tbody tr th:only-of-type {\n",
       "        vertical-align: middle;\n",
       "    }\n",
       "\n",
       "    .dataframe tbody tr th {\n",
       "        vertical-align: top;\n",
       "    }\n",
       "\n",
       "    .dataframe thead th {\n",
       "        text-align: right;\n",
       "    }\n",
       "</style>\n",
       "<table border=\"1\" class=\"dataframe\">\n",
       "  <thead>\n",
       "    <tr style=\"text-align: right;\">\n",
       "      <th></th>\n",
       "      <th>open</th>\n",
       "      <th>high</th>\n",
       "      <th>low</th>\n",
       "      <th>close</th>\n",
       "      <th>adjclose</th>\n",
       "      <th>volume</th>\n",
       "      <th>ticker</th>\n",
       "    </tr>\n",
       "  </thead>\n",
       "  <tbody>\n",
       "    <tr>\n",
       "      <th>2014-09-17</th>\n",
       "      <td>465.864014</td>\n",
       "      <td>468.174011</td>\n",
       "      <td>452.421997</td>\n",
       "      <td>457.334015</td>\n",
       "      <td>457.334015</td>\n",
       "      <td>21056800</td>\n",
       "      <td>BTC-USD</td>\n",
       "    </tr>\n",
       "    <tr>\n",
       "      <th>2014-09-18</th>\n",
       "      <td>456.859985</td>\n",
       "      <td>456.859985</td>\n",
       "      <td>413.104004</td>\n",
       "      <td>424.440002</td>\n",
       "      <td>424.440002</td>\n",
       "      <td>34483200</td>\n",
       "      <td>BTC-USD</td>\n",
       "    </tr>\n",
       "    <tr>\n",
       "      <th>2014-09-19</th>\n",
       "      <td>424.102997</td>\n",
       "      <td>427.834991</td>\n",
       "      <td>384.532013</td>\n",
       "      <td>394.795990</td>\n",
       "      <td>394.795990</td>\n",
       "      <td>37919700</td>\n",
       "      <td>BTC-USD</td>\n",
       "    </tr>\n",
       "    <tr>\n",
       "      <th>2014-09-20</th>\n",
       "      <td>394.673004</td>\n",
       "      <td>423.295990</td>\n",
       "      <td>389.882996</td>\n",
       "      <td>408.903992</td>\n",
       "      <td>408.903992</td>\n",
       "      <td>36863600</td>\n",
       "      <td>BTC-USD</td>\n",
       "    </tr>\n",
       "    <tr>\n",
       "      <th>2014-09-21</th>\n",
       "      <td>408.084991</td>\n",
       "      <td>412.425995</td>\n",
       "      <td>393.181000</td>\n",
       "      <td>398.821014</td>\n",
       "      <td>398.821014</td>\n",
       "      <td>26580100</td>\n",
       "      <td>BTC-USD</td>\n",
       "    </tr>\n",
       "  </tbody>\n",
       "</table>\n",
       "</div>"
      ],
      "text/plain": [
       "                  open        high         low       close    adjclose  \\\n",
       "2014-09-17  465.864014  468.174011  452.421997  457.334015  457.334015   \n",
       "2014-09-18  456.859985  456.859985  413.104004  424.440002  424.440002   \n",
       "2014-09-19  424.102997  427.834991  384.532013  394.795990  394.795990   \n",
       "2014-09-20  394.673004  423.295990  389.882996  408.903992  408.903992   \n",
       "2014-09-21  408.084991  412.425995  393.181000  398.821014  398.821014   \n",
       "\n",
       "              volume   ticker  \n",
       "2014-09-17  21056800  BTC-USD  \n",
       "2014-09-18  34483200  BTC-USD  \n",
       "2014-09-19  37919700  BTC-USD  \n",
       "2014-09-20  36863600  BTC-USD  \n",
       "2014-09-21  26580100  BTC-USD  "
      ]
     },
     "execution_count": 23,
     "metadata": {},
     "output_type": "execute_result"
    }
   ],
   "source": [
    "# Assets\n",
    "from yahoo_fin import stock_info as si\n",
    "\n",
    "# BTCUSD\n",
    "btcusd = si.get_data('BTC-USD')\n",
    "\n",
    "## 1 Oct - 31 Oct Data (30m)\n",
    "# btcusd_history_oct = btcusd_ticker.history(start='2024-10-01', end = '2024-10-31', interval='30m')\n",
    "\n",
    "# ## 1 Sep - 31 Sep Data (30m)\n",
    "# btcusd_history_sep = btcusd_ticker.history(start='2024-09-01', end = '2024-09-30', interval='30m')\n",
    "\n",
    "# ## 1 Aug - 30 Aug Data (30m)\n",
    "# btcusd_history_aug = btcusd_ticker.history(start='2024-08-01', end = '2024-08-31', interval='30m')\n",
    "\n",
    "# ETHUSD\n",
    "# SOLUSD\n",
    "# BCHUSD\n",
    "# USDT\n",
    "# BNBUSD\n",
    "# ADAUSD\n",
    "\n",
    "\n",
    "btcusd.head()"
   ]
  },
  {
   "cell_type": "code",
   "execution_count": null,
   "metadata": {},
   "outputs": [],
   "source": [
    "btcusd_history_sep.head()"
   ]
  },
  {
   "cell_type": "code",
   "execution_count": null,
   "metadata": {},
   "outputs": [],
   "source": [
    "btcusd_history_aug.head()"
   ]
  },
  {
   "cell_type": "code",
   "execution_count": null,
   "metadata": {},
   "outputs": [],
   "source": [
    "# Functions\n",
    "\n",
    "def historyRetriever() -> pd.DataFrame:\n",
    "    "
   ]
  }
 ],
 "metadata": {
  "kernelspec": {
   "display_name": "cfd_trading_strategies_env",
   "language": "python",
   "name": "python3"
  },
  "language_info": {
   "codemirror_mode": {
    "name": "ipython",
    "version": 3
   },
   "file_extension": ".py",
   "mimetype": "text/x-python",
   "name": "python",
   "nbconvert_exporter": "python",
   "pygments_lexer": "ipython3",
   "version": "3.13.0"
  }
 },
 "nbformat": 4,
 "nbformat_minor": 2
}
